{
 "cells": [
  {
   "cell_type": "markdown",
   "metadata": {
    "id": "aC5vluO-zrob"
   },
   "source": [
    "# Implementing ChatGPT's API key into your python script\n",
    "## By Sayem Nasher\n"
   ]
  },
  {
   "cell_type": "code",
   "execution_count": 17,
   "metadata": {
    "colab": {
     "base_uri": "https://localhost:8080/"
    },
    "id": "Tpvg4zPywMHs",
    "outputId": "580608a4-cbe2-4cff-fbc8-b9baafbf1738"
   },
   "outputs": [],
   "source": [
    "!pip install -q openai "
   ]
  },
  {
   "cell_type": "code",
   "execution_count": 18,
   "metadata": {
    "id": "ODDG2iqZwSSd"
   },
   "outputs": [],
   "source": [
    "openai.api_key = 'your api key here'"
   ]
  },
  {
   "cell_type": "code",
   "execution_count": 19,
   "metadata": {
    "id": "LtV_zj6-2AKA"
   },
   "outputs": [],
   "source": [
    "import openai"
   ]
  },
  {
   "cell_type": "code",
   "execution_count": 20,
   "metadata": {
    "id": "OuSeQk_Uwaiz"
   },
   "outputs": [],
   "source": [
    "messages = [\n",
    "    {\"role\": \"system\", \"content\": \"You are a kind helpful assistant.\"},\n",
    "]"
   ]
  },
  {
   "cell_type": "code",
   "execution_count": null,
   "metadata": {
    "colab": {
     "base_uri": "https://localhost:8080/",
     "height": 522
    },
    "id": "Fp7-srfFwfAj",
    "outputId": "f89dce21-b1d9-4fea-fef9-ccd24da75b3f"
   },
   "outputs": [
    {
     "name": "stdin",
     "output_type": "stream",
     "text": [
      "User :  what is 2+2\n"
     ]
    },
    {
     "name": "stdout",
     "output_type": "stream",
     "text": [
      "ChatGPT: The sum of 2 + 2 is 4.\n"
     ]
    },
    {
     "name": "stdin",
     "output_type": "stream",
     "text": [
      "User :  describe george washington in 3 sentences\n"
     ]
    },
    {
     "name": "stdout",
     "output_type": "stream",
     "text": [
      "ChatGPT: George Washington was the first President of the United States. He played a crucial role in leading the American Revolutionary War and securing independence for the nation. Known for his integrity, leadership, and commitment to democratic principles, Washington is considered a founding father and a key figure in American history.\n"
     ]
    }
   ],
   "source": [
    "while True:\n",
    "    message = input(\"User : \")\n",
    "    if message:\n",
    "        messages.append(\n",
    "            {\"role\": \"user\", \"content\": message},\n",
    "        )\n",
    "        chat = openai.ChatCompletion.create(\n",
    "            model=\"gpt-3.5-turbo\", messages=messages\n",
    "        )\n",
    "    \n",
    "    reply = chat.choices[0].message.content\n",
    "    print(f\"ChatGPT: {reply}\")\n",
    "    messages.append({\"role\": \"assistant\", \"content\": reply})"
   ]
  }
 ],
 "metadata": {
  "colab": {
   "provenance": []
  },
  "kernelspec": {
   "display_name": "Python 3 (ipykernel)",
   "language": "python",
   "name": "python3"
  },
  "language_info": {
   "codemirror_mode": {
    "name": "ipython",
    "version": 3
   },
   "file_extension": ".py",
   "mimetype": "text/x-python",
   "name": "python",
   "nbconvert_exporter": "python",
   "pygments_lexer": "ipython3",
   "version": "3.9.13"
  }
 },
 "nbformat": 4,
 "nbformat_minor": 4
}
